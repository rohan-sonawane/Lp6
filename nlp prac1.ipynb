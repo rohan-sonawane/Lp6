{
 "cells": [
  {
   "cell_type": "raw",
   "id": "4e1929a0",
   "metadata": {},
   "source": [
    "Pracitcal No: 1"
   ]
  },
  {
   "cell_type": "markdown",
   "id": "5d27322f",
   "metadata": {},
   "source": [
    "Tokenizer"
   ]
  },
  {
   "cell_type": "markdown",
   "id": "9d0a3af7",
   "metadata": {},
   "source": [
    "WhitespaceTokenizer, WordPuncTokenizer, TreebankWordTokenizer, TweetTokenizer, MWETokenizer"
   ]
  },
  {
   "cell_type": "code",
   "execution_count": 32,
   "id": "684193ac",
   "metadata": {},
   "outputs": [
    {
     "name": "stdout",
     "output_type": "stream",
     "text": [
      "Requirement already satisfied: nltk in c:\\users\\shubham kharote\\anaconda3\\lib\\site-packages (3.8.1)\n",
      "Requirement already satisfied: click in c:\\users\\shubham kharote\\anaconda3\\lib\\site-packages (from nltk) (8.0.4)\n",
      "Requirement already satisfied: joblib in c:\\users\\shubham kharote\\anaconda3\\lib\\site-packages (from nltk) (1.2.0)\n",
      "Requirement already satisfied: regex>=2021.8.3 in c:\\users\\shubham kharote\\anaconda3\\lib\\site-packages (from nltk) (2022.7.9)\n",
      "Requirement already satisfied: tqdm in c:\\users\\shubham kharote\\anaconda3\\lib\\site-packages (from nltk) (4.65.0)\n",
      "Requirement already satisfied: colorama in c:\\users\\shubham kharote\\anaconda3\\lib\\site-packages (from click->nltk) (0.4.6)\n",
      "Note: you may need to restart the kernel to use updated packages.\n"
     ]
    }
   ],
   "source": [
    "pip install nltk"
   ]
  },
  {
   "cell_type": "code",
   "execution_count": 4,
   "id": "d142a8c1",
   "metadata": {},
   "outputs": [],
   "source": [
    "from nltk.tokenize import WhitespaceTokenizer, WordPunctTokenizer"
   ]
  },
  {
   "cell_type": "code",
   "execution_count": 5,
   "id": "ef48c037",
   "metadata": {},
   "outputs": [],
   "source": [
    "from nltk.tokenize import TreebankWordTokenizer, TweetTokenizer, MWETokenizer"
   ]
  },
  {
   "cell_type": "code",
   "execution_count": 7,
   "id": "1cad061a",
   "metadata": {},
   "outputs": [],
   "source": [
    "text = \" Tokenization is a key Task in NLP. It breaks texts into tokens, which can be words, phrases, or symbols. 😊😊👌👌\""
   ]
  },
  {
   "cell_type": "markdown",
   "id": "106a7112",
   "metadata": {},
   "source": [
    "Whitespace Tokenizer: tokenize based on white space"
   ]
  },
  {
   "cell_type": "code",
   "execution_count": 9,
   "id": "92072172",
   "metadata": {},
   "outputs": [
    {
     "name": "stdout",
     "output_type": "stream",
     "text": [
      "Whitespace Tokenizer: ['Tokenization', 'is', 'a', 'key', 'Task', 'in', 'NLP.', 'It', 'breaks', 'texts', 'into', 'tokens,', 'which', 'can', 'be', 'words,', 'phrases,', 'or', 'symbols.', '😊😊👌👌']\n"
     ]
    }
   ],
   "source": [
    "whitespace_tokenizer = WhitespaceTokenizer()\n",
    "whitespace_tokens = whitespace_tokenizer.tokenize(text)\n",
    "print(\"Whitespace Tokenizer:\",whitespace_tokens)"
   ]
  },
  {
   "cell_type": "markdown",
   "id": "2ecdcf8f",
   "metadata": {},
   "source": [
    "WordPunctTokenizer: Punctuation based tokenizer"
   ]
  },
  {
   "cell_type": "code",
   "execution_count": 10,
   "id": "6c5b0b78",
   "metadata": {},
   "outputs": [
    {
     "name": "stdout",
     "output_type": "stream",
     "text": [
      "Punctuation based Tokenizer:  ['Tokenization', 'is', 'a', 'key', 'Task', 'in', 'NLP', '.', 'It', 'breaks', 'texts', 'into', 'tokens', ',', 'which', 'can', 'be', 'words', ',', 'phrases', ',', 'or', 'symbols', '.', '😊😊👌👌']\n"
     ]
    }
   ],
   "source": [
    "punct_tokenizer = WordPunctTokenizer()\n",
    "punct_tokens = punct_tokenizer.tokenize(text)\n",
    "print(\"Punctuation based Tokenizer: \",punct_tokens)"
   ]
  },
  {
   "cell_type": "markdown",
   "id": "b1a86ae3",
   "metadata": {},
   "source": [
    "TreebankWordTokenizer: "
   ]
  },
  {
   "cell_type": "code",
   "execution_count": 8,
   "id": "24252d82",
   "metadata": {
    "scrolled": true
   },
   "outputs": [
    {
     "name": "stdout",
     "output_type": "stream",
     "text": [
      "Treebank tokens:  ['Tokenization', 'is', 'a', 'key', 'Task', 'in', 'NLP.', 'It', 'breaks', 'texts', 'into', 'tokens', ',', 'which', 'can', 'be', 'words', ',', 'phrases', ',', 'or', 'symbols.', '😊😊👌👌']\n"
     ]
    }
   ],
   "source": [
    "treebank_tokenizer = TreebankWordTokenizer()\n",
    "treebank_tokens = treebank_tokenizer.tokenize(text)\n",
    "print(\"Treebank tokens: \", treebank_tokens)"
   ]
  },
  {
   "cell_type": "markdown",
   "id": "3873a039",
   "metadata": {},
   "source": [
    "TweetTokenizer: To tokenize tweets data with emojis"
   ]
  },
  {
   "cell_type": "code",
   "execution_count": 12,
   "id": "5758548e",
   "metadata": {},
   "outputs": [
    {
     "name": "stdout",
     "output_type": "stream",
     "text": [
      "Tweet Tokenizer:  ['Tokenization', 'is', 'a', 'key', 'Task', 'in', 'NLP', '.', 'It', 'breaks', 'texts', 'into', 'tokens', ',', 'which', 'can', 'be', 'words', ',', 'phrases', ',', 'or', 'symbols', '.', '😊', '😊', '👌', '👌']\n"
     ]
    }
   ],
   "source": [
    "tweet_tokenizer = TweetTokenizer()\n",
    "tweet_tokens = tweet_tokenizer.tokenize(text)\n",
    "print(\"Tweet Tokenizer: \", tweet_tokens)"
   ]
  },
  {
   "cell_type": "markdown",
   "id": "2d885945",
   "metadata": {},
   "source": [
    "MWETokenizer: Multi-Word Expression Tokenizer"
   ]
  },
  {
   "cell_type": "code",
   "execution_count": 15,
   "id": "3bdebd02",
   "metadata": {},
   "outputs": [
    {
     "name": "stdout",
     "output_type": "stream",
     "text": [
      "MWE Tokenizer:  ['Tokenization', 'is', 'a', 'key_Task', 'in', 'NLP.', 'It', 'breaks', 'texts', 'into', 'tokens,', 'which', 'can', 'be', 'words,', 'phrases,', 'or', 'symbols.', '😊😊👌👌']\n"
     ]
    }
   ],
   "source": [
    "mwe_tokenizer = MWETokenizer()\n",
    "mwe_tokenizer.add_mwe((\"key\",\"Task\"))\n",
    "mwe_tokens = mwe_tokenizer.tokenize(text.split())\n",
    "print(\"MWE Tokenizer: \", mwe_tokens)"
   ]
  },
  {
   "cell_type": "markdown",
   "id": "8299f790",
   "metadata": {},
   "source": [
    "Stemming"
   ]
  },
  {
   "cell_type": "code",
   "execution_count": null,
   "id": "93823ce1",
   "metadata": {},
   "outputs": [],
   "source": [
    "Porter Stemmer"
   ]
  },
  {
   "cell_type": "code",
   "execution_count": 17,
   "id": "eab2c147",
   "metadata": {},
   "outputs": [],
   "source": [
    "from nltk.stem import PorterStemmer, SnowballStemmer"
   ]
  },
  {
   "cell_type": "code",
   "execution_count": 21,
   "id": "1607718d",
   "metadata": {},
   "outputs": [
    {
     "name": "stdout",
     "output_type": "stream",
     "text": [
      "Porter Stemmer:  ['token']\n",
      "Porter Stemmer:  ['is']\n",
      "Porter Stemmer:  ['a']\n",
      "Porter Stemmer:  ['key']\n",
      "Porter Stemmer:  ['task']\n",
      "Porter Stemmer:  ['in']\n",
      "Porter Stemmer:  ['nlp.']\n",
      "Porter Stemmer:  ['it']\n",
      "Porter Stemmer:  ['break']\n",
      "Porter Stemmer:  ['text']\n",
      "Porter Stemmer:  ['into']\n",
      "Porter Stemmer:  ['token']\n",
      "Porter Stemmer:  [',']\n",
      "Porter Stemmer:  ['which']\n",
      "Porter Stemmer:  ['can']\n",
      "Porter Stemmer:  ['be']\n",
      "Porter Stemmer:  ['word']\n",
      "Porter Stemmer:  [',']\n",
      "Porter Stemmer:  ['phrase']\n",
      "Porter Stemmer:  [',']\n",
      "Porter Stemmer:  ['or']\n",
      "Porter Stemmer:  ['symbols.']\n",
      "Porter Stemmer:  ['😊😊👌👌']\n"
     ]
    }
   ],
   "source": [
    "porter_stemmer = PorterStemmer()\n",
    "for token in treebank_tokens:\n",
    "    porter_stems = [porter_stemmer.stem(token)]\n",
    "    print(\"Porter Stemmer: \", porter_stems)"
   ]
  },
  {
   "cell_type": "markdown",
   "id": "7de910b0",
   "metadata": {},
   "source": [
    "Snowball Stemmer"
   ]
  },
  {
   "cell_type": "code",
   "execution_count": 24,
   "id": "48443bd3",
   "metadata": {},
   "outputs": [
    {
     "name": "stdout",
     "output_type": "stream",
     "text": [
      "Snowball Stemmer:  ['token']\n",
      "Snowball Stemmer:  ['is']\n",
      "Snowball Stemmer:  ['a']\n",
      "Snowball Stemmer:  ['key']\n",
      "Snowball Stemmer:  ['task']\n",
      "Snowball Stemmer:  ['in']\n",
      "Snowball Stemmer:  ['nlp.']\n",
      "Snowball Stemmer:  ['it']\n",
      "Snowball Stemmer:  ['break']\n",
      "Snowball Stemmer:  ['text']\n",
      "Snowball Stemmer:  ['into']\n",
      "Snowball Stemmer:  ['token']\n",
      "Snowball Stemmer:  [',']\n",
      "Snowball Stemmer:  ['which']\n",
      "Snowball Stemmer:  ['can']\n",
      "Snowball Stemmer:  ['be']\n",
      "Snowball Stemmer:  ['word']\n",
      "Snowball Stemmer:  [',']\n",
      "Snowball Stemmer:  ['phrase']\n",
      "Snowball Stemmer:  [',']\n",
      "Snowball Stemmer:  ['or']\n",
      "Snowball Stemmer:  ['symbols.']\n",
      "Snowball Stemmer:  ['😊😊👌👌']\n"
     ]
    }
   ],
   "source": [
    "snowball_stemmer = SnowballStemmer(\"english\")\n",
    "for token in treebank_tokens:\n",
    "    snowball_stems = [snowball_stemmer.stem(token)]\n",
    "    print(\"Snowball Stemmer: \", snowball_stems)"
   ]
  },
  {
   "cell_type": "markdown",
   "id": "26db2154",
   "metadata": {},
   "source": [
    "Lemmatization"
   ]
  },
  {
   "cell_type": "markdown",
   "id": "10f0d14d",
   "metadata": {},
   "source": [
    "WordNetLemmatizer"
   ]
  },
  {
   "cell_type": "code",
   "execution_count": 2,
   "id": "e85264f6",
   "metadata": {},
   "outputs": [],
   "source": [
    "from nltk.stem.wordnet import WordNetLemmatizer"
   ]
  },
  {
   "cell_type": "code",
   "execution_count": 3,
   "id": "5a059544",
   "metadata": {},
   "outputs": [
    {
     "name": "stderr",
     "output_type": "stream",
     "text": [
      "[nltk_data] Downloading package wordnet to C:\\Users\\Shubham\n",
      "[nltk_data]     Kharote\\AppData\\Roaming\\nltk_data...\n",
      "[nltk_data]   Package wordnet is already up-to-date!\n"
     ]
    },
    {
     "data": {
      "text/plain": [
       "True"
      ]
     },
     "execution_count": 3,
     "metadata": {},
     "output_type": "execute_result"
    }
   ],
   "source": [
    "import nltk\n",
    "nltk.download('wordnet')"
   ]
  },
  {
   "cell_type": "code",
   "execution_count": 9,
   "id": "a8bcb9d9",
   "metadata": {},
   "outputs": [
    {
     "name": "stdout",
     "output_type": "stream",
     "text": [
      "Lemmatization: ['Tokenization', 'is', 'a', 'key', 'Task', 'in', 'NLP.', 'It', 'break', 'text', 'into', 'token', ',', 'which', 'can', 'be', 'word', ',', 'phrase', ',', 'or', 'symbols.', '😊😊👌👌']\n"
     ]
    }
   ],
   "source": [
    "lemmatizer = WordNetLemmatizer()\n",
    "lemmatized_tokens = [lemmatizer.lemmatize(token) for token in treebank_tokens]\n",
    "print(\"Lemmatization:\", lemmatized_tokens)"
   ]
  },
  {
   "cell_type": "code",
   "execution_count": null,
   "id": "7c8e42b1",
   "metadata": {},
   "outputs": [],
   "source": []
  }
 ],
 "metadata": {
  "kernelspec": {
   "display_name": "Python 3 (ipykernel)",
   "language": "python",
   "name": "python3"
  },
  "language_info": {
   "codemirror_mode": {
    "name": "ipython",
    "version": 3
   },
   "file_extension": ".py",
   "mimetype": "text/x-python",
   "name": "python",
   "nbconvert_exporter": "python",
   "pygments_lexer": "ipython3",
   "version": "3.11.5"
  }
 },
 "nbformat": 4,
 "nbformat_minor": 5
}
