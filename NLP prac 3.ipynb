{
 "cells": [
  {
   "cell_type": "markdown",
   "id": "7ed48342",
   "metadata": {},
   "source": [
    "Practical No: 3"
   ]
  },
  {
   "cell_type": "markdown",
   "id": "2b948c29",
   "metadata": {},
   "source": [
    "Perform text cleaning, perform lemmatization (any\n",
    "method), remove stop words (any method), label encoding.\n",
    "Create representations using TF-IDF. "
   ]
  },
  {
   "cell_type": "code",
   "execution_count": 1,
   "id": "dc60c817",
   "metadata": {},
   "outputs": [],
   "source": [
    "import nltk\n",
    "import pandas as pd\n",
    "from sklearn.feature_extraction.text import TfidfVectorizer\n",
    "from sklearn.preprocessing import LabelEncoder\n",
    "from nltk.corpus import stopwords\n",
    "from nltk.tokenize import word_tokenize\n",
    "from nltk.stem import WordNetLemmatizer"
   ]
  },
  {
   "cell_type": "markdown",
   "id": "931d23e6",
   "metadata": {},
   "source": [
    "Sample Data"
   ]
  },
  {
   "cell_type": "code",
   "execution_count": 2,
   "id": "0d11f554",
   "metadata": {},
   "outputs": [],
   "source": [
    "data = {\n",
    "    'text': [\"This is the first document.\",\n",
    "             \"This document is the second document.\",\n",
    "             \"And this is the third one.\",\n",
    "             \"Is this the first document?\"],\n",
    "    'label': ['A', 'B', 'C', 'A']\n",
    "}"
   ]
  },
  {
   "cell_type": "code",
   "execution_count": 3,
   "id": "50494983",
   "metadata": {},
   "outputs": [],
   "source": [
    "df = pd.DataFrame(data)"
   ]
  },
  {
   "cell_type": "markdown",
   "id": "54a37efb",
   "metadata": {},
   "source": [
    "Text Cleaning, Lemmatization, and Stop Words Removal"
   ]
  },
  {
   "cell_type": "code",
   "execution_count": 4,
   "id": "cc6afdc0",
   "metadata": {},
   "outputs": [],
   "source": [
    "lemmatizer = WordNetLemmatizer()\n",
    "stop_words = set(stopwords.words('english'))"
   ]
  },
  {
   "cell_type": "code",
   "execution_count": 5,
   "id": "408df699",
   "metadata": {},
   "outputs": [],
   "source": [
    "def clean_text(text):\n",
    "    tokens = word_tokenize(text.lower())  # Tokenize and convert to lowercase\n",
    "    tokens = [token for token in tokens if token.isalnum()]  # Remove non-alphanumeric characters\n",
    "    tokens = [lemmatizer.lemmatize(token) for token in tokens]  # Lemmatize\n",
    "    tokens = [token for token in tokens if token not in stop_words]  # Remove stop words\n",
    "    return ' '.join(tokens)\n",
    "\n",
    "df['clean_text'] = df['text'].apply(clean_text)"
   ]
  },
  {
   "cell_type": "markdown",
   "id": "bc2e518e",
   "metadata": {},
   "source": [
    "Label Encoding"
   ]
  },
  {
   "cell_type": "code",
   "execution_count": 6,
   "id": "85a3e229",
   "metadata": {},
   "outputs": [],
   "source": [
    "label_encoder = LabelEncoder()\n",
    "df['encoded_label'] = label_encoder.fit_transform(df['label'])"
   ]
  },
  {
   "cell_type": "markdown",
   "id": "4a5cc90a",
   "metadata": {},
   "source": [
    "TF-IDF Representation"
   ]
  },
  {
   "cell_type": "code",
   "execution_count": 7,
   "id": "9de82d8a",
   "metadata": {},
   "outputs": [],
   "source": [
    "tfidf_vectorizer = TfidfVectorizer()\n",
    "tfidf_matrix = tfidf_vectorizer.fit_transform(df['clean_text'])\n",
    "tfidf_df = pd.DataFrame(tfidf_matrix.toarray(), columns=tfidf_vectorizer.get_feature_names_out())"
   ]
  },
  {
   "cell_type": "markdown",
   "id": "f8c9c528",
   "metadata": {},
   "source": [
    "Save Outputs"
   ]
  },
  {
   "cell_type": "code",
   "execution_count": 8,
   "id": "00b3d73a",
   "metadata": {},
   "outputs": [
    {
     "name": "stdout",
     "output_type": "stream",
     "text": [
      "Outputs saved successfully.\n"
     ]
    }
   ],
   "source": [
    "df[['clean_text', 'label', 'encoded_label']].to_csv('cleaned_data.csv', index=False)\n",
    "tfidf_df.to_csv('tfidf_representation.csv', index=False)\n",
    "\n",
    "print(\"Outputs saved successfully.\")"
   ]
  },
  {
   "cell_type": "code",
   "execution_count": 9,
   "id": "03164453",
   "metadata": {},
   "outputs": [
    {
     "name": "stdout",
     "output_type": "stream",
     "text": [
      "                 clean_text label  encoded_label\n",
      "0            first document     A              0\n",
      "1  document second document     B              1\n",
      "2                 third one     C              2\n",
      "3            first document     A              0\n"
     ]
    }
   ],
   "source": [
    "file_path = \"cleaned_data.csv\"\n",
    "df1 = pd.read_csv(file_path)\n",
    "\n",
    "# Display the first few rows\n",
    "print(df1.head())"
   ]
  },
  {
   "cell_type": "code",
   "execution_count": 10,
   "id": "3fded5e6",
   "metadata": {},
   "outputs": [
    {
     "name": "stdout",
     "output_type": "stream",
     "text": [
      "   document     first       one    second     third\n",
      "0  0.629228  0.777221  0.000000  0.000000  0.000000\n",
      "1  0.787223  0.000000  0.000000  0.616668  0.000000\n",
      "2  0.000000  0.000000  0.707107  0.000000  0.707107\n",
      "3  0.629228  0.777221  0.000000  0.000000  0.000000\n"
     ]
    }
   ],
   "source": [
    "file_path = \"tfidf_representation.csv\"\n",
    "df2 = pd.read_csv(file_path)\n",
    "\n",
    "# Display the first few rows\n",
    "print(df2.head())"
   ]
  },
  {
   "cell_type": "code",
   "execution_count": null,
   "id": "b2fbb08c",
   "metadata": {},
   "outputs": [],
   "source": []
  }
 ],
 "metadata": {
  "kernelspec": {
   "display_name": "Python 3 (ipykernel)",
   "language": "python",
   "name": "python3"
  },
  "language_info": {
   "codemirror_mode": {
    "name": "ipython",
    "version": 3
   },
   "file_extension": ".py",
   "mimetype": "text/x-python",
   "name": "python",
   "nbconvert_exporter": "python",
   "pygments_lexer": "ipython3",
   "version": "3.11.5"
  }
 },
 "nbformat": 4,
 "nbformat_minor": 5
}
